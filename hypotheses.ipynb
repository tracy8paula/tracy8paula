{
 "cells": [
  {
   "cell_type": "markdown",
   "metadata": {},
   "source": [
    "ADONGO TRACY PAULA\n",
    "M24B38/008\n",
    "B27291"
   ]
  },
  {
   "cell_type": "markdown",
   "metadata": {},
   "source": [
    "*Practice Exercise* \n",
    "Using the diamonds dataset, test the following hypotheses using very articulate tests in jupyter notebook: \n",
    "\n",
    "1) average price of all table categories are the same  \n",
    "\n",
    "2) average price of \"Premium\" diamonds is 150"
   ]
  },
  {
   "cell_type": "code",
   "execution_count": 2,
   "metadata": {},
   "outputs": [
    {
     "data": {
      "text/html": [
       "<div>\n",
       "<style scoped>\n",
       "    .dataframe tbody tr th:only-of-type {\n",
       "        vertical-align: middle;\n",
       "    }\n",
       "\n",
       "    .dataframe tbody tr th {\n",
       "        vertical-align: top;\n",
       "    }\n",
       "\n",
       "    .dataframe thead th {\n",
       "        text-align: right;\n",
       "    }\n",
       "</style>\n",
       "<table border=\"1\" class=\"dataframe\">\n",
       "  <thead>\n",
       "    <tr style=\"text-align: right;\">\n",
       "      <th></th>\n",
       "      <th>price</th>\n",
       "      <th>carat</th>\n",
       "      <th>cut</th>\n",
       "      <th>color</th>\n",
       "      <th>clarity</th>\n",
       "      <th>depth</th>\n",
       "      <th>table</th>\n",
       "      <th>x</th>\n",
       "      <th>y</th>\n",
       "      <th>z</th>\n",
       "    </tr>\n",
       "  </thead>\n",
       "  <tbody>\n",
       "    <tr>\n",
       "      <th>0</th>\n",
       "      <td>326</td>\n",
       "      <td>0.23</td>\n",
       "      <td>Ideal</td>\n",
       "      <td>E</td>\n",
       "      <td>SI2</td>\n",
       "      <td>61.5</td>\n",
       "      <td>55.0</td>\n",
       "      <td>3.95</td>\n",
       "      <td>3.98</td>\n",
       "      <td>2.43</td>\n",
       "    </tr>\n",
       "    <tr>\n",
       "      <th>1</th>\n",
       "      <td>326</td>\n",
       "      <td>0.21</td>\n",
       "      <td>Premium</td>\n",
       "      <td>E</td>\n",
       "      <td>SI1</td>\n",
       "      <td>59.8</td>\n",
       "      <td>61.0</td>\n",
       "      <td>3.89</td>\n",
       "      <td>3.84</td>\n",
       "      <td>2.31</td>\n",
       "    </tr>\n",
       "    <tr>\n",
       "      <th>2</th>\n",
       "      <td>327</td>\n",
       "      <td>0.23</td>\n",
       "      <td>Good</td>\n",
       "      <td>E</td>\n",
       "      <td>VS1</td>\n",
       "      <td>56.9</td>\n",
       "      <td>65.0</td>\n",
       "      <td>4.05</td>\n",
       "      <td>4.07</td>\n",
       "      <td>2.31</td>\n",
       "    </tr>\n",
       "    <tr>\n",
       "      <th>3</th>\n",
       "      <td>334</td>\n",
       "      <td>0.29</td>\n",
       "      <td>Premium</td>\n",
       "      <td>I</td>\n",
       "      <td>VS2</td>\n",
       "      <td>62.4</td>\n",
       "      <td>58.0</td>\n",
       "      <td>4.20</td>\n",
       "      <td>4.23</td>\n",
       "      <td>2.63</td>\n",
       "    </tr>\n",
       "    <tr>\n",
       "      <th>4</th>\n",
       "      <td>335</td>\n",
       "      <td>0.31</td>\n",
       "      <td>Good</td>\n",
       "      <td>J</td>\n",
       "      <td>SI2</td>\n",
       "      <td>63.3</td>\n",
       "      <td>58.0</td>\n",
       "      <td>4.34</td>\n",
       "      <td>4.35</td>\n",
       "      <td>2.75</td>\n",
       "    </tr>\n",
       "  </tbody>\n",
       "</table>\n",
       "</div>"
      ],
      "text/plain": [
       "   price  carat      cut color clarity  depth  table     x     y     z\n",
       "0    326   0.23    Ideal     E     SI2   61.5   55.0  3.95  3.98  2.43\n",
       "1    326   0.21  Premium     E     SI1   59.8   61.0  3.89  3.84  2.31\n",
       "2    327   0.23     Good     E     VS1   56.9   65.0  4.05  4.07  2.31\n",
       "3    334   0.29  Premium     I     VS2   62.4   58.0  4.20  4.23  2.63\n",
       "4    335   0.31     Good     J     SI2   63.3   58.0  4.34  4.35  2.75"
      ]
     },
     "execution_count": 2,
     "metadata": {},
     "output_type": "execute_result"
    }
   ],
   "source": [
    "import pandas as pd\n",
    "import numpy as np\n",
    "from scipy import stats\n",
    "\n",
    "diamonds_df = pd.read_excel(\"diamonds_new.xlsx\")\n",
    "diamonds_df.head()\n",
    "\n",
    "# to test hypothesis that the average price of all carat categories is the same, we can perform an ANOVA test to determine significant differences"
   ]
  },
  {
   "cell_type": "markdown",
   "metadata": {},
   "source": [
    "# 1) Hypothesis 1: Z-test for comparing the average price of all \"table\" categories"
   ]
  },
  {
   "cell_type": "code",
   "execution_count": 12,
   "metadata": {},
   "outputs": [
    {
     "name": "stdout",
     "output_type": "stream",
     "text": [
      "Z-statistic: -1.8389515653188298, P-value: 0.0659223103512927\n"
     ]
    }
   ],
   "source": [
    "# Perform pairwise Z-tests (Z-test for two independent samples)\n",
    "def z_test(group1, group2):\n",
    "    n1, n2 = len(group1), len(group2)\n",
    "    mean1, mean2 = np.mean(group1), np.mean(group2)\n",
    "    std1, std2 = np.std(group1, ddof=1), np.std(group2, ddof=1)\n",
    "    \n",
    "    # Z-test formula for two independent samples\n",
    "    z = (mean1 - mean2) / np.sqrt((std1**2/n1) + (std2**2/n2))\n",
    "    p_value = 2 * (1 - stats.norm.cdf(abs(z)))\n",
    "    \n",
    "    return z, p_value\n",
    "\n",
    "# Example: Perform Z-test between first two table categories\n",
    "group1 = diamonds_df[diamonds_df['table_category'] == diamonds_df['table_category'].unique()[0]]['price']\n",
    "group2 = diamonds_df[diamonds_df['table_category'] == diamonds_df['table_category'].unique()[1]]['price']\n",
    "\n",
    "z_stat, p_value = z_test(group1, group2)\n",
    "print(f'Z-statistic: {z_stat}, P-value: {p_value}')\n",
    "\n",
    "# Since the Z-statistic is negative, it indicates close to no difference between the means of the two groups.\n",
    "# Since the p-value is above 0.05, we regard the null hypothesis and conclude that the average prices of the table categories aren't different"
   ]
  },
  {
   "cell_type": "markdown",
   "metadata": {},
   "source": [
    "# 2) Hypothesis 2: T-test for the average price of \"Premium\" diamonds being 150"
   ]
  },
  {
   "cell_type": "code",
   "execution_count": 13,
   "metadata": {},
   "outputs": [
    {
     "name": "stdout",
     "output_type": "stream",
     "text": [
      "T-statistic: 119.73104883785925, P-value: 0.0\n"
     ]
    }
   ],
   "source": [
    "# Filter for Premium diamonds\n",
    "premium_diamonds = diamonds_df[diamonds_df['cut'] == 'Premium']\n",
    "\n",
    "# Perform one-sample t-test\n",
    "t_stat, p_value = stats.ttest_1samp(premium_diamonds['price'], 150)\n",
    "\n",
    "print(f'T-statistic: {t_stat}, P-value: {p_value}')\n",
    "\n",
    "#Since the p-value is less than 0.05, the difference between the observed mean and $150 is statistically significant, meaning the average price of Premium diamonds is not $150"
   ]
  }
 ],
 "metadata": {
  "kernelspec": {
   "display_name": "Python 3",
   "language": "python",
   "name": "python3"
  },
  "language_info": {
   "codemirror_mode": {
    "name": "ipython",
    "version": 3
   },
   "file_extension": ".py",
   "mimetype": "text/x-python",
   "name": "python",
   "nbconvert_exporter": "python",
   "pygments_lexer": "ipython3",
   "version": "3.12.4"
  }
 },
 "nbformat": 4,
 "nbformat_minor": 2
}
